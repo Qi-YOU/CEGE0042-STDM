{
 "cells": [
  {
   "cell_type": "markdown",
   "id": "fd91d704-c05e-46f8-9e53-960bb8de8975",
   "metadata": {},
   "source": [
    "# Modeling: Hyper Parameter Search"
   ]
  },
  {
   "cell_type": "markdown",
   "id": "bca80c4c-0bfe-4cf6-9b9b-ae152a60a3fb",
   "metadata": {},
   "source": [
    "结论是目前数据有很大问题\n",
    "1. 验证测试集和训练集的分布\n",
    "2. OSRM\n",
    "3. 用LightGBM或者Random Forest测试一下情况"
   ]
  },
  {
   "cell_type": "code",
   "execution_count": 1,
   "id": "c6049d1f-543d-43ad-a3d1-01e8fd92369d",
   "metadata": {},
   "outputs": [
    {
     "name": "stdout",
     "output_type": "stream",
     "text": [
      "XGBoost version: 2.0.3\n",
      "XGBoost config: {'use_rmm': False, 'verbosity': 1}\n",
      "CPU times: user 1.14 s, sys: 875 ms, total: 2.01 s\n",
      "Wall time: 1.4 s\n"
     ]
    }
   ],
   "source": [
    "%%time\n",
    "import os\n",
    "os.environ[\"CUDA_VISIBLE_DEVICES\"] = \"0\"\n",
    "import pandas as pd\n",
    "import numpy as np\n",
    "import cupy as cp\n",
    "import random\n",
    "random.seed(42)\n",
    "import xgboost as xgb\n",
    "print(\"XGBoost version:\", xgb.__version__)\n",
    "print(\"XGBoost config:\", xgb.get_config())\n",
    "from sklearn.model_selection import ParameterSampler\n",
    "from sklearn.metrics import r2_score, mean_squared_error\n",
    "from tqdm.notebook import tqdm\n",
    "import joblib\n",
    "import warnings\n",
    "import gc\n",
    "\n",
    "save_dir = \"/root/autodl-tmp\""
   ]
  },
  {
   "cell_type": "code",
   "execution_count": 2,
   "id": "8ed20386-3363-4322-b382-ce5612b32a7a",
   "metadata": {},
   "outputs": [
    {
     "name": "stdout",
     "output_type": "stream",
     "text": [
      "<class 'pandas.core.frame.DataFrame'>\n",
      "RangeIndex: 982163 entries, 0 to 982162\n",
      "Data columns (total 31 columns):\n",
      " #   Column                     Non-Null Count   Dtype  \n",
      "---  ------                     --------------   -----  \n",
      " 0   id                         982163 non-null  object \n",
      " 1   vendor_id                  982163 non-null  int64  \n",
      " 2   passenger_count            982163 non-null  float64\n",
      " 3   store_and_fwd_flag         982163 non-null  int64  \n",
      " 4   pickup_pca0                982163 non-null  float64\n",
      " 5   pickup_pca1                982163 non-null  float64\n",
      " 6   dropoff_pca0               982163 non-null  float64\n",
      " 7   dropoff_pca1               982163 non-null  float64\n",
      " 8   euclidean_distance         982163 non-null  float64\n",
      " 9   pickup_hour_of_day         982163 non-null  float64\n",
      " 10  day_of_week                982163 non-null  float64\n",
      " 11  hour_of_week               982163 non-null  float64\n",
      " 12  month_of_year              982163 non-null  float64\n",
      " 13  day_of_year                982163 non-null  float64\n",
      " 14  week_of_year               982163 non-null  float64\n",
      " 15  hour_of_year               982163 non-null  float64\n",
      " 16  r_depth                    982163 non-null  float64\n",
      " 17  s_fall                     982163 non-null  float64\n",
      " 18  s_depth                    982163 non-null  float64\n",
      " 19  all_precip                 982163 non-null  float64\n",
      " 20  has_snow                   982163 non-null  int64  \n",
      " 21  has_rain                   982163 non-null  int64  \n",
      " 22  max_temp                   982163 non-null  float64\n",
      " 23  min_temp                   982163 non-null  float64\n",
      " 24  cnt_coords_bin_dp          982163 non-null  float64\n",
      " 25  cnt_coords_bin_p           982163 non-null  float64\n",
      " 26  cnt_coords_bin_d           982163 non-null  float64\n",
      " 27  cnt_prev_1h                982163 non-null  float64\n",
      " 28  cnt_mean_prev_3h_pickups   982163 non-null  float64\n",
      " 29  cnt_mean_prev_3h_dropoffs  982163 non-null  float64\n",
      " 30  trip_duration              982163 non-null  int64  \n",
      "dtypes: float64(25), int64(5), object(1)\n",
      "memory usage: 232.3+ MB\n",
      "CPU times: user 708 ms, sys: 963 ms, total: 1.67 s\n",
      "Wall time: 853 ms\n"
     ]
    }
   ],
   "source": [
    "%%time\n",
    "\n",
    "# Load the dataset\n",
    "df_train = pd.read_parquet(\"data/prep/train.parquet\")\n",
    "df_test = pd.read_parquet(\"data/prep/test.parquet\")\n",
    "    \n",
    "df_train.info()"
   ]
  },
  {
   "cell_type": "code",
   "execution_count": 3,
   "id": "c33ab56c-c383-4103-999b-d86805a38a8f",
   "metadata": {},
   "outputs": [
    {
     "name": "stdout",
     "output_type": "stream",
     "text": [
      "<class 'pandas.core.frame.DataFrame'>\n",
      "RangeIndex: 291713 entries, 0 to 291712\n",
      "Data columns (total 31 columns):\n",
      " #   Column                     Non-Null Count   Dtype  \n",
      "---  ------                     --------------   -----  \n",
      " 0   id                         291713 non-null  object \n",
      " 1   vendor_id                  291713 non-null  int64  \n",
      " 2   passenger_count            291713 non-null  float64\n",
      " 3   store_and_fwd_flag         291713 non-null  int64  \n",
      " 4   pickup_pca0                291713 non-null  float64\n",
      " 5   pickup_pca1                291713 non-null  float64\n",
      " 6   dropoff_pca0               291713 non-null  float64\n",
      " 7   dropoff_pca1               291713 non-null  float64\n",
      " 8   euclidean_distance         291713 non-null  float64\n",
      " 9   pickup_hour_of_day         291713 non-null  float64\n",
      " 10  day_of_week                291713 non-null  float64\n",
      " 11  hour_of_week               291713 non-null  float64\n",
      " 12  month_of_year              291713 non-null  float64\n",
      " 13  day_of_year                291713 non-null  float64\n",
      " 14  week_of_year               291713 non-null  float64\n",
      " 15  hour_of_year               291713 non-null  float64\n",
      " 16  r_depth                    291713 non-null  float64\n",
      " 17  s_fall                     291713 non-null  float64\n",
      " 18  s_depth                    291713 non-null  float64\n",
      " 19  all_precip                 291713 non-null  float64\n",
      " 20  has_snow                   291713 non-null  int64  \n",
      " 21  has_rain                   291713 non-null  int64  \n",
      " 22  max_temp                   291713 non-null  float64\n",
      " 23  min_temp                   291713 non-null  float64\n",
      " 24  cnt_coords_bin_dp          291713 non-null  float64\n",
      " 25  cnt_coords_bin_p           291713 non-null  float64\n",
      " 26  cnt_coords_bin_d           291713 non-null  float64\n",
      " 27  cnt_prev_1h                291713 non-null  float64\n",
      " 28  cnt_mean_prev_3h_pickups   291713 non-null  float64\n",
      " 29  cnt_mean_prev_3h_dropoffs  291713 non-null  float64\n",
      " 30  trip_duration              291713 non-null  int64  \n",
      "dtypes: float64(25), int64(5), object(1)\n",
      "memory usage: 69.0+ MB\n",
      "CPU times: user 29.4 ms, sys: 1.2 ms, total: 30.6 ms\n",
      "Wall time: 29.5 ms\n"
     ]
    }
   ],
   "source": [
    "%%time\n",
    "    \n",
    "df_test.info()"
   ]
  },
  {
   "cell_type": "code",
   "execution_count": 4,
   "id": "676c9989-9514-4e0d-aad4-7f14180c4f45",
   "metadata": {},
   "outputs": [
    {
     "name": "stdout",
     "output_type": "stream",
     "text": [
      "DMatrix dtrain: 982163 rows, 29 columns\n",
      "DMatrix dtest: 291713 rows, 29 columns\n",
      "CPU times: user 1.65 s, sys: 664 ms, total: 2.31 s\n",
      "Wall time: 1.08 s\n"
     ]
    },
    {
     "data": {
      "text/plain": [
       "0"
      ]
     },
     "execution_count": 4,
     "metadata": {},
     "output_type": "execute_result"
    }
   ],
   "source": [
    "%%time\n",
    "\n",
    "# Select X (second column to second last column) and y (last column)\n",
    "X_train = df_train.iloc[:, 1:-1].values\n",
    "y_train = np.log(df_train.iloc[:, -1].values + 1)  # Apply log transformation\n",
    "X_test = df_test.iloc[:, 1:-1].values\n",
    "y_test = np.log(df_test.iloc[:, -1].values + 1)  # Apply log transformation\n",
    "\n",
    "# Convert directly to XGBoost DMatrix\n",
    "dtrain = xgb.DMatrix(X_train, label=y_train)\n",
    "dtest = xgb.DMatrix(X_test, label=y_test)\n",
    "\n",
    "# Verify conversion\n",
    "print(\"DMatrix dtrain:\", dtrain.num_row(), \"rows,\", dtrain.num_col(), \"columns\")\n",
    "print(\"DMatrix dtest:\", dtest.num_row(), \"rows,\", dtest.num_col(), \"columns\")\n",
    "\n",
    "# Cleanup\n",
    "del df_train, df_test, X_train, X_test\n",
    "gc.collect()"
   ]
  },
  {
   "cell_type": "code",
   "execution_count": 5,
   "id": "34b9181a-63d8-43bf-885a-05067b0cfe86",
   "metadata": {},
   "outputs": [
    {
     "name": "stdout",
     "output_type": "stream",
     "text": [
      "CPU times: user 3 µs, sys: 1e+03 ns, total: 4 µs\n",
      "Wall time: 17.4 µs\n"
     ]
    }
   ],
   "source": [
    "%%time\n",
    "\n",
    "# Define parameter grid for Hyper Parameter Search\n",
    "param_dist = {\n",
    "    \"max_depth\": [5, 7, 9, 11, 13],\n",
    "    \"learning_rate\": [0.01, 0.05, 0.1],\n",
    "    \"subsample\": [0.6, 0.7, 0.8, 0.9, 1.0],\n",
    "    \"colsample_bytree\": [0.25, 0.5, 0.75, 1.0, 2.0], \n",
    "    \"min_child_weight\": [1, 2, 5, 10, 20, 50, 100],\n",
    "    \"gamma\": [0.1, 0.25, 0.5, 1, 2, 5],\n",
    "    \"reg_alpha\": [0, 0.1, 0.5, 1, 5, 10],\n",
    "    \"reg_lambda\": [1, 10, 50, 100],\n",
    "}"
   ]
  },
  {
   "cell_type": "code",
   "execution_count": 6,
   "id": "cdcbdacb-3456-4b0c-b373-298014fedad8",
   "metadata": {},
   "outputs": [
    {
     "name": "stdout",
     "output_type": "stream",
     "text": [
      "CPU times: user 826 µs, sys: 1.94 ms, total: 2.76 ms\n",
      "Wall time: 1.81 ms\n"
     ]
    }
   ],
   "source": [
    "%%time\n",
    "\n",
    "# Sample parameter combinations from the parameter grid\n",
    "param_samples = list(ParameterSampler(param_dist, n_iter=5, random_state=42))\n",
    "\n",
    "# Initialize storage for performance metrics\n",
    "test_performance = {key: [] for key in list(param_samples[0].keys())\n",
    "                    + [\"train_rmsle\", \"test_rmsle\", \"train_r2score\", \"test_r2score\"]}\n",
    "best_rmsle_test = float(\"inf\")\n",
    "best_model = None\n",
    "\n",
    "# Define the evaluation set\n",
    "eval_set = [(dtrain, \"train\"), (dtest, \"eval\")]\n",
    "\n",
    "# Define the base parameters\n",
    "base_params = {\n",
    "    \"nthread\": 4,\n",
    "    \"device\": \"cuda\",\n",
    "    \"tree_method\": \"hist\",\n",
    "    \"booster\": \"gbtree\",\n",
    "    \"eval_metric\": \"rmse\",\n",
    "    \"objective\": \"reg:squarederror\",\n",
    "    \"random_state\": 42,\n",
    "}"
   ]
  },
  {
   "cell_type": "code",
   "execution_count": 7,
   "id": "17168d3a-cdc5-4c8f-ad47-6e87f628f2dc",
   "metadata": {},
   "outputs": [
    {
     "data": {
      "text/plain": [
       "{'subsample': [],\n",
       " 'reg_lambda': [],\n",
       " 'reg_alpha': [],\n",
       " 'min_child_weight': [],\n",
       " 'max_depth': [],\n",
       " 'learning_rate': [],\n",
       " 'gamma': [],\n",
       " 'colsample_bytree': [],\n",
       " 'train_rmsle': [],\n",
       " 'test_rmsle': [],\n",
       " 'train_r2score': [],\n",
       " 'test_r2score': []}"
      ]
     },
     "execution_count": 7,
     "metadata": {},
     "output_type": "execute_result"
    }
   ],
   "source": [
    "test_performance"
   ]
  },
  {
   "cell_type": "code",
   "execution_count": 8,
   "id": "0a9a4db0-c5a6-4e41-acda-4312013cd15b",
   "metadata": {},
   "outputs": [
    {
     "data": {
      "application/vnd.jupyter.widget-view+json": {
       "model_id": "",
       "version_major": 2,
       "version_minor": 0
      },
      "text/plain": [
       "Hyperparameter Search Progress...:   0%|          | 0/5 [00:00<?, ?it/s]"
      ]
     },
     "metadata": {},
     "output_type": "display_data"
    },
    {
     "name": "stdout",
     "output_type": "stream",
     "text": [
      "{'subsample': [0.9], 'reg_lambda': [100], 'reg_alpha': [0.1], 'min_child_weight': [2], 'max_depth': [11], 'learning_rate': [0.05], 'gamma': [0.25], 'colsample_bytree': [0.8], 'train_rmsle': [0.24068537794786146], 'test_rmsle': [0.5242402708566164], 'train_r2score': [0.8204304032275787], 'test_r2score': [0.5668410976816647]}\n",
      "{'subsample': [0.9, 0.8], 'reg_lambda': [100, 10], 'reg_alpha': [0.1, 10], 'min_child_weight': [2, 10], 'max_depth': [11, 13], 'learning_rate': [0.05, 0.01], 'gamma': [0.25, 2], 'colsample_bytree': [0.8, 0.8], 'train_rmsle': [0.24068537794786146, 0.26162224639662374], 'test_rmsle': [0.5242402708566164, 0.5271134952897151], 'train_r2score': [0.8204304032275787, 0.7878306068028389], 'test_r2score': [0.5668410976816647, 0.5620800239026824]}\n",
      "{'subsample': [0.9, 0.8, 0.8], 'reg_lambda': [100, 10, 50], 'reg_alpha': [0.1, 10, 0.5], 'min_child_weight': [2, 10, 20], 'max_depth': [11, 13, 13], 'learning_rate': [0.05, 0.01, 0.05], 'gamma': [0.25, 2, 0.5], 'colsample_bytree': [0.8, 0.8, 0.8], 'train_rmsle': [0.24068537794786146, 0.26162224639662374, 0.24340832707636195], 'test_rmsle': [0.5242402708566164, 0.5271134952897151, 0.5255561508377772], 'train_r2score': [0.8204304032275787, 0.7878306068028389, 0.8163443656481106], 'test_r2score': [0.5668410976816647, 0.5620800239026824, 0.5646638499143907]}\n",
      "{'subsample': [0.9, 0.8, 0.8, 0.9], 'reg_lambda': [100, 10, 50, 100], 'reg_alpha': [0.1, 10, 0.5, 5], 'min_child_weight': [2, 10, 20, 20], 'max_depth': [11, 13, 13, 7], 'learning_rate': [0.05, 0.01, 0.05, 0.1], 'gamma': [0.25, 2, 0.5, 2], 'colsample_bytree': [0.8, 0.8, 0.8, 1.0], 'train_rmsle': [0.24068537794786146, 0.26162224639662374, 0.24340832707636195, 0.26939812758723125], 'test_rmsle': [0.5242402708566164, 0.5271134952897151, 0.5255561508377772, 0.5205461288230613], 'train_r2score': [0.8204304032275787, 0.7878306068028389, 0.8163443656481106, 0.7750310717487922], 'test_r2score': [0.5668410976816647, 0.5620800239026824, 0.5646638499143907, 0.5729242345179903]}\n",
      "{'subsample': [0.9, 0.8, 0.8, 0.9, 1.0], 'reg_lambda': [100, 10, 50, 100, 100], 'reg_alpha': [0.1, 10, 0.5, 5, 10], 'min_child_weight': [2, 10, 20, 20, 10], 'max_depth': [11, 13, 13, 7, 13], 'learning_rate': [0.05, 0.01, 0.05, 0.1, 0.01], 'gamma': [0.25, 2, 0.5, 2, 0.25], 'colsample_bytree': [0.8, 0.8, 0.8, 1.0, 0.8], 'train_rmsle': [0.24068537794786146, 0.26162224639662374, 0.24340832707636195, 0.26939812758723125, 0.24607773968349803], 'test_rmsle': [0.5242402708566164, 0.5271134952897151, 0.5255561508377772, 0.5205461288230613, 0.5261307047010538], 'train_r2score': [0.8204304032275787, 0.7878306068028389, 0.8163443656481106, 0.7750310717487922, 0.8122940447303382], 'test_r2score': [0.5668410976816647, 0.5620800239026824, 0.5646638499143907, 0.5729242345179903, 0.563711484356304]}\n",
      "CPU times: user 38 s, sys: 1min 9s, total: 1min 47s\n",
      "Wall time: 1min 47s\n"
     ]
    },
    {
     "data": {
      "text/plain": [
       "100"
      ]
     },
     "execution_count": 8,
     "metadata": {},
     "output_type": "execute_result"
    }
   ],
   "source": [
    "%%time\n",
    "\n",
    "# Iterate over each parameter combination\n",
    "for params in tqdm(param_samples, desc=\"Hyperparameter Search Progress...\", miniters=100, leave=False):\n",
    "    # Merge base parameters with current set of hyperparameters\n",
    "    current_params = {**base_params, **params}\n",
    "    \n",
    "    # Train the model\n",
    "    model = xgb.train(\n",
    "        params=current_params,\n",
    "        dtrain=dtrain,\n",
    "        num_boost_round=5000,\n",
    "        evals=eval_set,\n",
    "        early_stopping_rounds=50,\n",
    "        verbose_eval=False,\n",
    "    )\n",
    "    \n",
    "    # Make predictions on the training and test sets\n",
    "    y_pred_train = model.predict(dtrain)\n",
    "    y_pred_test = model.predict(dtest)\n",
    "    \n",
    "    # Calculate R^2 scores\n",
    "    train_score = r2_score(y_train, y_pred_train, force_finite=False)\n",
    "    test_score = r2_score(y_test, y_pred_test, force_finite=False)\n",
    "    \n",
    "    # Calculate RMSLE(RMSE & log(Y))\n",
    "    train_rmsle = np.sqrt(mean_squared_error(y_train, y_pred_train))\n",
    "    test_rmsle = np.sqrt(mean_squared_error(y_test, y_pred_test))\n",
    "    \n",
    "    # Append parameter values and RMSE scores\n",
    "    for param in params.keys():\n",
    "        test_performance[param].append(params[param])\n",
    "    \n",
    "    test_performance[\"train_r2score\"].append(train_score)\n",
    "    test_performance[\"test_r2score\"].append(test_score)\n",
    "    test_performance[\"train_rmsle\"].append(train_rmsle)\n",
    "    test_performance[\"test_rmsle\"].append(test_rmsle)\n",
    "    \n",
    "    # Update best_model if the current test RMSLE is better\n",
    "    if test_rmsle < best_rmsle_test:\n",
    "        best_model = model\n",
    "        best_rmsle_test = test_rmsle\n",
    "\n",
    "# Cleanup memory\n",
    "gc.collect()"
   ]
  },
  {
   "cell_type": "code",
   "execution_count": 9,
   "id": "5cba2c8f-5513-457a-b71c-4d3af4ae4863",
   "metadata": {},
   "outputs": [
    {
     "name": "stdout",
     "output_type": "stream",
     "text": [
      "Best parameters on test set:  {'subsample': 0.9, 'reg_lambda': 100.0, 'reg_alpha': 5.0, 'min_child_weight': 20.0, 'max_depth': 7.0, 'learning_rate': 0.1, 'gamma': 2.0, 'colsample_bytree': 1.0, 'train_rmsle': 0.26939812758723125, 'test_rmsle': 0.5205461288230613, 'train_r2score': 0.7750310717487922, 'test_r2score': 0.5729242345179903}\n",
      "Best RMSE on test set:  0.5205461288230613\n",
      "CPU times: user 16.4 ms, sys: 4.6 ms, total: 21 ms\n",
      "Wall time: 24 ms\n"
     ]
    },
    {
     "name": "stderr",
     "output_type": "stream",
     "text": [
      "/root/miniconda3/lib/python3.8/site-packages/xgboost/core.py:160: UserWarning: [02:32:29] WARNING: /home/conda/feedstock_root/build_artifacts/xgboost-split_1703076482591/work/src/c_api/c_api.cc:1240: Saving into deprecated binary model format, please consider using `json` or `ubj`. Model format will default to JSON in XGBoost 2.2 if not specified.\n",
      "  warnings.warn(smsg, UserWarning)\n"
     ]
    }
   ],
   "source": [
    "%%time\n",
    "\n",
    "# Generate folders to save model outputs\n",
    "os.makedirs(\"model\", exist_ok=True)\n",
    "\n",
    "# Generate a DataFrame to store performance results\n",
    "performance_df = pd.DataFrame(test_performance)\n",
    "\n",
    "# Find the parameter combination with the lowest RMSE on the test set\n",
    "best_params_test = performance_df.loc[\n",
    "    performance_df[\"test_rmsle\"].idxmin()].to_dict()\n",
    "\n",
    "print(\"Best parameters on test set: \",\n",
    "      best_params_test)\n",
    "print(\"Best RMSE on test set: \",\n",
    "      best_rmsle_test)\n",
    "\n",
    "# Save the best model to file\n",
    "best_model.save_model(os.path.join(\"model\", \"best_model_found.json\"))\n",
    "\n",
    "# Optionally, save the performance DataFrame to a CSV file\n",
    "performance_df.to_csv(os.path.join(\"model\", \"hyperparameter_search_results.csv\"),\n",
    "                      index=False)"
   ]
  },
  {
   "cell_type": "code",
   "execution_count": 11,
   "id": "7e6ad73e-8edf-4070-a5fa-7c7ca56f8d68",
   "metadata": {},
   "outputs": [
    {
     "name": "stdout",
     "output_type": "stream",
     "text": [
      "subsample: 6\n",
      "reg_lambda: 6\n",
      "reg_alpha: 6\n",
      "min_child_weight: 6\n",
      "max_depth: 6\n",
      "learning_rate: 6\n",
      "gamma: 6\n",
      "colsample_bytree: 6\n",
      "train_rmsle: 5\n",
      "test_rmsle: 5\n",
      "train_r2score: 6\n",
      "test_r2score: 6\n"
     ]
    }
   ],
   "source": [
    "for key, value in test_performance.items():\n",
    "    print(f\"{key}: {len(value)}\")"
   ]
  },
  {
   "cell_type": "code",
   "execution_count": 12,
   "id": "d78ec162-79ad-4494-ba4b-583a77b9755e",
   "metadata": {},
   "outputs": [
    {
     "data": {
      "text/plain": [
       "{'subsample': [0.9, 0.9, 0.8, 0.8, 0.9, 1.0],\n",
       " 'reg_lambda': [100, 100, 10, 50, 100, 100],\n",
       " 'reg_alpha': [0.1, 0.1, 10, 0.5, 5, 10],\n",
       " 'min_child_weight': [2, 2, 10, 20, 20, 10],\n",
       " 'max_depth': [11, 11, 13, 13, 7, 13],\n",
       " 'learning_rate': [0.05, 0.05, 0.01, 0.05, 0.1, 0.01],\n",
       " 'gamma': [0.25, 0.25, 2, 0.5, 2, 0.25],\n",
       " 'colsample_bytree': [0.8, 0.8, 0.8, 0.8, 1.0, 0.8],\n",
       " 'train_rmsle': [0.24068537794786146,\n",
       "  0.26162224639662374,\n",
       "  0.24340832707636195,\n",
       "  0.26939812758723125,\n",
       "  0.24607773968349803],\n",
       " 'test_rmsle': [0.5242402708566164,\n",
       "  0.5271134952897151,\n",
       "  0.5255561508377772,\n",
       "  0.5205461288230613,\n",
       "  0.5261307047010538],\n",
       " 'train_r2score': [0.8204304032275787,\n",
       "  0.8204304032275787,\n",
       "  0.7878306068028389,\n",
       "  0.8163443656481106,\n",
       "  0.7750310717487922,\n",
       "  0.8122940447303382],\n",
       " 'test_r2score': [0.5668410976816647,\n",
       "  0.5668410976816647,\n",
       "  0.5620800239026824,\n",
       "  0.5646638499143907,\n",
       "  0.5729242345179903,\n",
       "  0.563711484356304]}"
      ]
     },
     "execution_count": 12,
     "metadata": {},
     "output_type": "execute_result"
    }
   ],
   "source": [
    "performance_df.head(20)"
   ]
  },
  {
   "cell_type": "markdown",
   "id": "c8485edb-97b9-4c58-8f24-4165a7861f08",
   "metadata": {},
   "source": [
    "---"
   ]
  }
 ],
 "metadata": {
  "kernelspec": {
   "display_name": "Python 3 (ipykernel)",
   "language": "python",
   "name": "python3"
  },
  "language_info": {
   "codemirror_mode": {
    "name": "ipython",
    "version": 3
   },
   "file_extension": ".py",
   "mimetype": "text/x-python",
   "name": "python",
   "nbconvert_exporter": "python",
   "pygments_lexer": "ipython3",
   "version": "3.8.20"
  }
 },
 "nbformat": 4,
 "nbformat_minor": 5
}
