{
 "cells": [
  {
   "cell_type": "markdown",
   "id": "bed53086-53da-4622-993e-70831e2bca05",
   "metadata": {},
   "source": [
    "# Temporal & Spatial Auto-Correlation"
   ]
  },
  {
   "cell_type": "markdown",
   "id": "6f0d9ea1-6020-4fbd-a0cf-27edf9b07c55",
   "metadata": {},
   "source": [
    "---"
   ]
  }
 ],
 "metadata": {
  "kernelspec": {
   "display_name": "Python 3 (ipykernel)",
   "language": "python",
   "name": "python3"
  },
  "language_info": {
   "codemirror_mode": {
    "name": "ipython",
    "version": 3
   },
   "file_extension": ".py",
   "mimetype": "text/x-python",
   "name": "python",
   "nbconvert_exporter": "python",
   "pygments_lexer": "ipython3",
   "version": "3.8.20"
  }
 },
 "nbformat": 4,
 "nbformat_minor": 5
}
